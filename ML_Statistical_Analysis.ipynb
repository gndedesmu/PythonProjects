{
  "nbformat": 4,
  "nbformat_minor": 0,
  "metadata": {
    "kernelspec": {
      "display_name": "Python 3",
      "language": "python",
      "name": "python3"
    },
    "language_info": {
      "codemirror_mode": {
        "name": "ipython",
        "version": 3
      },
      "file_extension": ".py",
      "mimetype": "text/x-python",
      "name": "python",
      "nbconvert_exporter": "python",
      "pygments_lexer": "ipython3",
      "version": "3.8.5"
    },
    "colab": {
      "name": "ML_Assignment1 (1).ipynb",
      "provenance": [],
      "include_colab_link": true
    }
  },
  "cells": [
    {
      "cell_type": "markdown",
      "metadata": {
        "id": "view-in-github",
        "colab_type": "text"
      },
      "source": [
        "<a href=\"https://colab.research.google.com/github/gndedesmu/PythonProjects/blob/main/ML_Statistical_Analysis.ipynb\" target=\"_parent\"><img src=\"https://colab.research.google.com/assets/colab-badge.svg\" alt=\"Open In Colab\"/></a>"
      ]
    },
    {
      "cell_type": "code",
      "metadata": {
        "id": "EqxbkU_rTxbu"
      },
      "source": [
        "import pandas as pd\n",
        "from pandas import DataFrame\n",
        "import numpy as np\n",
        "import matplotlib.pyplot as plt\n",
        "import seaborn as sns\n",
        "from statsmodels.formula.api import ols\n",
        "import statsmodels.api as sm\n"
      ],
      "execution_count": null,
      "outputs": []
    },
    {
      "cell_type": "code",
      "metadata": {
        "id": "UBlko4tMTxb3",
        "outputId": "7b9c5c88-a51a-4813-b788-1fe963066d18"
      },
      "source": [
        "#1: Load the data\n",
        "\n",
        "df = pd.read_csv(r\"C:\\Users\\Emily Kimani\\Desktop\\Adv_Python\\Machine_Learning\\lmdata.csv\")\n",
        "\n",
        "## Displays the DataFrame(df) - the 1st five rows and the last 5 rows\n",
        "\n",
        "df.head()"
      ],
      "execution_count": null,
      "outputs": [
        {
          "output_type": "execute_result",
          "data": {
            "text/html": [
              "<div>\n",
              "<style scoped>\n",
              "    .dataframe tbody tr th:only-of-type {\n",
              "        vertical-align: middle;\n",
              "    }\n",
              "\n",
              "    .dataframe tbody tr th {\n",
              "        vertical-align: top;\n",
              "    }\n",
              "\n",
              "    .dataframe thead th {\n",
              "        text-align: right;\n",
              "    }\n",
              "</style>\n",
              "<table border=\"1\" class=\"dataframe\">\n",
              "  <thead>\n",
              "    <tr style=\"text-align: right;\">\n",
              "      <th></th>\n",
              "      <th>latitude</th>\n",
              "      <th>mortality</th>\n",
              "    </tr>\n",
              "  </thead>\n",
              "  <tbody>\n",
              "    <tr>\n",
              "      <th>0</th>\n",
              "      <td>33.0</td>\n",
              "      <td>219</td>\n",
              "    </tr>\n",
              "    <tr>\n",
              "      <th>1</th>\n",
              "      <td>34.0</td>\n",
              "      <td>222</td>\n",
              "    </tr>\n",
              "    <tr>\n",
              "      <th>2</th>\n",
              "      <td>35.0</td>\n",
              "      <td>225</td>\n",
              "    </tr>\n",
              "    <tr>\n",
              "      <th>3</th>\n",
              "      <td>36.0</td>\n",
              "      <td>228</td>\n",
              "    </tr>\n",
              "    <tr>\n",
              "      <th>4</th>\n",
              "      <td>37.0</td>\n",
              "      <td>231</td>\n",
              "    </tr>\n",
              "  </tbody>\n",
              "</table>\n",
              "</div>"
            ],
            "text/plain": [
              "   latitude  mortality\n",
              "0      33.0        219\n",
              "1      34.0        222\n",
              "2      35.0        225\n",
              "3      36.0        228\n",
              "4      37.0        231"
            ]
          },
          "metadata": {
            "tags": []
          },
          "execution_count": 3
        }
      ]
    },
    {
      "cell_type": "code",
      "metadata": {
        "id": "iBfYs5HITxb6",
        "outputId": "70c3ea11-1dc7-4b03-ce07-1b93f36190fb"
      },
      "source": [
        "##  Print the column names\n",
        "\n",
        "print(df.columns)"
      ],
      "execution_count": null,
      "outputs": [
        {
          "output_type": "stream",
          "text": [
            "Index(['latitude', 'mortality'], dtype='object')\n"
          ],
          "name": "stdout"
        }
      ]
    },
    {
      "cell_type": "code",
      "metadata": {
        "id": "ViLaHrx9Txb6",
        "outputId": "141afcd0-9e9b-43d4-fa3a-a871d3ebf99b"
      },
      "source": [
        "# Print the columns as list\n",
        "\n",
        "print(list(df.columns))"
      ],
      "execution_count": null,
      "outputs": [
        {
          "output_type": "stream",
          "text": [
            "['latitude', 'mortality']\n"
          ],
          "name": "stdout"
        }
      ]
    },
    {
      "cell_type": "code",
      "metadata": {
        "id": "7PG6TbWITxb7",
        "outputId": "4c0b6a4e-3b71-421b-8553-912ca8ba9e4a"
      },
      "source": [
        "# Get all Column names \n",
        "\n",
        "for col_name in df.columns: \n",
        "    print(col_name)"
      ],
      "execution_count": null,
      "outputs": [
        {
          "output_type": "stream",
          "text": [
            "latitude\n",
            "mortality\n"
          ],
          "name": "stdout"
        }
      ]
    },
    {
      "cell_type": "code",
      "metadata": {
        "id": "jjLEjbR6Txb7",
        "outputId": "aed9524f-a8b0-4ea2-8f08-bb55357b7786"
      },
      "source": [
        "# Dataframe show all columns sorted list\n",
        "sorted(df)"
      ],
      "execution_count": null,
      "outputs": [
        {
          "output_type": "execute_result",
          "data": {
            "text/plain": [
              "['latitude', 'mortality']"
            ]
          },
          "metadata": {
            "tags": []
          },
          "execution_count": 6
        }
      ]
    },
    {
      "cell_type": "code",
      "metadata": {
        "id": "J4yHUrsKTxb8",
        "outputId": "23cf7198-2f50-4240-e4f0-abf52c225e12"
      },
      "source": [
        "#Print/Display the Column Information\n",
        "df.info()"
      ],
      "execution_count": null,
      "outputs": [
        {
          "output_type": "stream",
          "text": [
            "<class 'pandas.core.frame.DataFrame'>\n",
            "RangeIndex: 24 entries, 0 to 23\n",
            "Data columns (total 2 columns):\n",
            " #   Column     Non-Null Count  Dtype  \n",
            "---  ------     --------------  -----  \n",
            " 0   latitude   24 non-null     float64\n",
            " 1   mortality  24 non-null     int64  \n",
            "dtypes: float64(1), int64(1)\n",
            "memory usage: 512.0 bytes\n"
          ],
          "name": "stdout"
        }
      ]
    },
    {
      "cell_type": "code",
      "metadata": {
        "id": "2hn7ofyHTxb9",
        "outputId": "448383a8-dcc6-471a-e445-6ea8e3e6e5bc"
      },
      "source": [
        "df.shape"
      ],
      "execution_count": null,
      "outputs": [
        {
          "output_type": "execute_result",
          "data": {
            "text/plain": [
              "(24, 2)"
            ]
          },
          "metadata": {
            "tags": []
          },
          "execution_count": 7
        }
      ]
    },
    {
      "cell_type": "code",
      "metadata": {
        "id": "3ykOFBPyTxb9",
        "outputId": "f367a96c-d439-4906-e3ff-3ebc999f2989"
      },
      "source": [
        "#2: Generate descriptive statistics for the data\n",
        "\n",
        "df.describe()"
      ],
      "execution_count": null,
      "outputs": [
        {
          "output_type": "execute_result",
          "data": {
            "text/html": [
              "<div>\n",
              "<style scoped>\n",
              "    .dataframe tbody tr th:only-of-type {\n",
              "        vertical-align: middle;\n",
              "    }\n",
              "\n",
              "    .dataframe tbody tr th {\n",
              "        vertical-align: top;\n",
              "    }\n",
              "\n",
              "    .dataframe thead th {\n",
              "        text-align: right;\n",
              "    }\n",
              "</style>\n",
              "<table border=\"1\" class=\"dataframe\">\n",
              "  <thead>\n",
              "    <tr style=\"text-align: right;\">\n",
              "      <th></th>\n",
              "      <th>latitude</th>\n",
              "      <th>mortality</th>\n",
              "    </tr>\n",
              "  </thead>\n",
              "  <tbody>\n",
              "    <tr>\n",
              "      <th>count</th>\n",
              "      <td>24.000000</td>\n",
              "      <td>24.000000</td>\n",
              "    </tr>\n",
              "    <tr>\n",
              "      <th>mean</th>\n",
              "      <td>41.458333</td>\n",
              "      <td>255.250000</td>\n",
              "    </tr>\n",
              "    <tr>\n",
              "      <th>std</th>\n",
              "      <td>4.476792</td>\n",
              "      <td>23.882411</td>\n",
              "    </tr>\n",
              "    <tr>\n",
              "      <th>min</th>\n",
              "      <td>33.000000</td>\n",
              "      <td>219.000000</td>\n",
              "    </tr>\n",
              "    <tr>\n",
              "      <th>25%</th>\n",
              "      <td>38.375000</td>\n",
              "      <td>236.250000</td>\n",
              "    </tr>\n",
              "    <tr>\n",
              "      <th>50%</th>\n",
              "      <td>41.750000</td>\n",
              "      <td>253.500000</td>\n",
              "    </tr>\n",
              "    <tr>\n",
              "      <th>75%</th>\n",
              "      <td>45.125000</td>\n",
              "      <td>271.250000</td>\n",
              "    </tr>\n",
              "    <tr>\n",
              "      <th>max</th>\n",
              "      <td>48.500000</td>\n",
              "      <td>300.000000</td>\n",
              "    </tr>\n",
              "  </tbody>\n",
              "</table>\n",
              "</div>"
            ],
            "text/plain": [
              "        latitude   mortality\n",
              "count  24.000000   24.000000\n",
              "mean   41.458333  255.250000\n",
              "std     4.476792   23.882411\n",
              "min    33.000000  219.000000\n",
              "25%    38.375000  236.250000\n",
              "50%    41.750000  253.500000\n",
              "75%    45.125000  271.250000\n",
              "max    48.500000  300.000000"
            ]
          },
          "metadata": {
            "tags": []
          },
          "execution_count": 8
        }
      ]
    },
    {
      "cell_type": "code",
      "metadata": {
        "id": "3zyCGhkBTxb-",
        "outputId": "4fa0957f-4023-440a-b2ae-70cc3d7d5cd1"
      },
      "source": [
        "df.describe().T"
      ],
      "execution_count": null,
      "outputs": [
        {
          "output_type": "execute_result",
          "data": {
            "text/html": [
              "<div>\n",
              "<style scoped>\n",
              "    .dataframe tbody tr th:only-of-type {\n",
              "        vertical-align: middle;\n",
              "    }\n",
              "\n",
              "    .dataframe tbody tr th {\n",
              "        vertical-align: top;\n",
              "    }\n",
              "\n",
              "    .dataframe thead th {\n",
              "        text-align: right;\n",
              "    }\n",
              "</style>\n",
              "<table border=\"1\" class=\"dataframe\">\n",
              "  <thead>\n",
              "    <tr style=\"text-align: right;\">\n",
              "      <th></th>\n",
              "      <th>count</th>\n",
              "      <th>mean</th>\n",
              "      <th>std</th>\n",
              "      <th>min</th>\n",
              "      <th>25%</th>\n",
              "      <th>50%</th>\n",
              "      <th>75%</th>\n",
              "      <th>max</th>\n",
              "    </tr>\n",
              "  </thead>\n",
              "  <tbody>\n",
              "    <tr>\n",
              "      <th>latitude</th>\n",
              "      <td>24.0</td>\n",
              "      <td>41.458333</td>\n",
              "      <td>4.476792</td>\n",
              "      <td>33.0</td>\n",
              "      <td>38.375</td>\n",
              "      <td>41.75</td>\n",
              "      <td>45.125</td>\n",
              "      <td>48.5</td>\n",
              "    </tr>\n",
              "    <tr>\n",
              "      <th>mortality</th>\n",
              "      <td>24.0</td>\n",
              "      <td>255.250000</td>\n",
              "      <td>23.882411</td>\n",
              "      <td>219.0</td>\n",
              "      <td>236.250</td>\n",
              "      <td>253.50</td>\n",
              "      <td>271.250</td>\n",
              "      <td>300.0</td>\n",
              "    </tr>\n",
              "  </tbody>\n",
              "</table>\n",
              "</div>"
            ],
            "text/plain": [
              "           count        mean        std    min      25%     50%      75%  \\\n",
              "latitude    24.0   41.458333   4.476792   33.0   38.375   41.75   45.125   \n",
              "mortality   24.0  255.250000  23.882411  219.0  236.250  253.50  271.250   \n",
              "\n",
              "             max  \n",
              "latitude    48.5  \n",
              "mortality  300.0  "
            ]
          },
          "metadata": {
            "tags": []
          },
          "execution_count": 9
        }
      ]
    },
    {
      "cell_type": "code",
      "metadata": {
        "id": "2BTupgDCTxb_",
        "outputId": "2155b306-ac71-4add-f355-10855416d2fd"
      },
      "source": [
        "\n",
        "stats = df.describe(include='all')\n",
        "print (stats)"
      ],
      "execution_count": null,
      "outputs": [
        {
          "output_type": "stream",
          "text": [
            "        latitude   mortality\n",
            "count  24.000000   24.000000\n",
            "mean   41.458333  255.250000\n",
            "std     4.476792   23.882411\n",
            "min    33.000000  219.000000\n",
            "25%    38.375000  236.250000\n",
            "50%    41.750000  253.500000\n",
            "75%    45.125000  271.250000\n",
            "max    48.500000  300.000000\n"
          ],
          "name": "stdout"
        }
      ]
    },
    {
      "cell_type": "code",
      "metadata": {
        "id": "gYhoQzR4Txb_",
        "outputId": "18518fdb-0fb7-4067-bf6e-1573a425e0c3"
      },
      "source": [
        "stats_numeric = df['latitude'].describe()\n",
        "print (stats_numeric)"
      ],
      "execution_count": null,
      "outputs": [
        {
          "output_type": "stream",
          "text": [
            "count    24.000000\n",
            "mean     41.458333\n",
            "std       4.476792\n",
            "min      33.000000\n",
            "25%      38.375000\n",
            "50%      41.750000\n",
            "75%      45.125000\n",
            "max      48.500000\n",
            "Name: latitude, dtype: float64\n"
          ],
          "name": "stdout"
        }
      ]
    },
    {
      "cell_type": "code",
      "metadata": {
        "id": "pcCy5UTdTxcA",
        "outputId": "8cebab2d-35e0-4ed4-cb13-c4c3e5681204"
      },
      "source": [
        "stats_numeric = df['mortality'].describe()\n",
        "print (stats_numeric)"
      ],
      "execution_count": null,
      "outputs": [
        {
          "output_type": "stream",
          "text": [
            "count     24.000000\n",
            "mean     255.250000\n",
            "std       23.882411\n",
            "min      219.000000\n",
            "25%      236.250000\n",
            "50%      253.500000\n",
            "75%      271.250000\n",
            "max      300.000000\n",
            "Name: mortality, dtype: float64\n"
          ],
          "name": "stdout"
        }
      ]
    },
    {
      "cell_type": "code",
      "metadata": {
        "id": "POIqwkEWTxcA",
        "outputId": "2e122a4c-7f4e-4e31-853f-791058258f97"
      },
      "source": [
        "#3: Create a line plot for the variables. Add a title and x & y axes.\n",
        "##    a) Beautify the x-labels\n",
        "##    b) plot a line graph\n",
        "\n",
        "sns.lineplot('mortality', 'latitude', ci=None, color=\"red\", marker='o', data=df)\n",
        "\n",
        "##sns.lineplot('Day', 'x', data=df)"
      ],
      "execution_count": null,
      "outputs": [
        {
          "output_type": "stream",
          "text": [
            "C:\\Users\\Emily Kimani\\anaconda3\\lib\\site-packages\\seaborn\\_decorators.py:36: FutureWarning: Pass the following variables as keyword args: x, y. From version 0.12, the only valid positional argument will be `data`, and passing other arguments without an explicit keyword will result in an error or misinterpretation.\n",
            "  warnings.warn(\n"
          ],
          "name": "stderr"
        },
        {
          "output_type": "execute_result",
          "data": {
            "text/plain": [
              "<AxesSubplot:xlabel='mortality', ylabel='latitude'>"
            ]
          },
          "metadata": {
            "tags": []
          },
          "execution_count": 18
        },
        {
          "output_type": "display_data",
          "data": {
            "image/png": "[encoded data removed]",
            "text/plain": [
              "<Figure size 432x288 with 1 Axes>"
            ]
          },
          "metadata": {
            "tags": [],
            "needs_background": "light"
          }
        }
      ]
    },
    {
      "cell_type": "code",
      "metadata": {
        "id": "1ZQWBKM6TxcB",
        "outputId": "c18773a6-01e2-4d81-dea6-104149a9c409"
      },
      "source": [
        "#4: Create a scatter plot / Add title and (X,Y) axis names\n",
        "\n",
        "plt.figure(figsize=(10,6))    ## Increase the size of the Seaborn plot\n",
        "sns.scatterplot(x=\"mortality\", y=\"latitude\", data=df)   ## Make a scatter plot\n",
        "plt.xlabel(\"Mortality\", size=16)   ## X axis label and set the size\n",
        "plt.ylabel(\"Latitude\", size=16)      ## Y axis label and set the size\n",
        "plt.title(\"Mortality vs Latitude\", size=24, color=\"blue\")  ## Set Seaborn Plot Title\n"
      ],
      "execution_count": null,
      "outputs": [
        {
          "output_type": "execute_result",
          "data": {
            "text/plain": [
              "Text(0.5, 1.0, 'Mortality vs Latitude')"
            ]
          },
          "metadata": {
            "tags": []
          },
          "execution_count": 20
        },
        {
          "output_type": "display_data",
          "data": {
            "image/png": "[encoded data removed]",
            "text/plain": [
              "<Figure size 720x432 with 1 Axes>"
            ]
          },
          "metadata": {
            "tags": [],
            "needs_background": "light"
          }
        }
      ]
    },
    {
      "cell_type": "code",
      "metadata": {
        "id": "KKh2tZYFTxcB",
        "outputId": "9bc1c346-ec2d-410f-b5b4-8a0e14c7e066"
      },
      "source": [
        "#5: Create a Seaborn boxplot for mortality\n",
        "\n",
        "plt.figure(figsize=(10,6))\n",
        "emily = sns.boxplot(x=\"mortality\", y=\"latitude\", data=df)\n",
        "plt.xlabel(\"Mortality\", size=16)   ## X axis label and set the size\n",
        "plt.ylabel(\"Latitude\", size=16)      ## Y axis label and set the size\n",
        "plt.title(\"Mortality vs Latitude\", size=24, color=\"green\")  ## Set Seaborn Plot Title\n",
        "\n"
      ],
      "execution_count": null,
      "outputs": [
        {
          "output_type": "execute_result",
          "data": {
            "text/plain": [
              "Text(0.5, 1.0, 'Mortality vs Latitude')"
            ]
          },
          "metadata": {
            "tags": []
          },
          "execution_count": 16
        },
        {
          "output_type": "display_data",
          "data": {
            "image/png": "[encoded data removed]",
            "text/plain": [
              "<Figure size 720x432 with 1 Axes>"
            ]
          },
          "metadata": {
            "tags": [],
            "needs_background": "light"
          }
        }
      ]
    },
    {
      "cell_type": "code",
      "metadata": {
        "id": "NQK9cfUlTxcC",
        "outputId": "b4bae496-da89-4d46-d311-a8ae91f42285"
      },
      "source": [
        "## Create a Matplotlib Boxplot\n",
        "\n",
        "fig = plt.figure(figsize =(10, 7))\n",
        "  \n",
        "# Creating axes instance\n",
        "ax = fig.add_axes([0, 0, 1, 1])\n",
        "  \n",
        "# Creating plot\n",
        "bp = ax.boxplot(df)\n",
        "\n",
        "# show plot\n",
        "plt.show()"
      ],
      "execution_count": null,
      "outputs": [
        {
          "output_type": "display_data",
          "data": {
            "image/png": "[encoded data removed]",
            "text/plain": [
              "<Figure size 720x504 with 1 Axes>"
            ]
          },
          "metadata": {
            "tags": [],
            "needs_background": "light"
          }
        }
      ]
    },
    {
      "cell_type": "code",
      "metadata": {
        "id": "hoxoevNWTxcC",
        "outputId": "91350684-2ecf-48d3-9d03-d34f16612080"
      },
      "source": [
        "#6: Conduct a Pearson’s correlation test for the variables\n",
        "\n",
        "## A Correlation Test is the strength of the association between two variables.\n",
        "## Parametric Correlation : It measures a linear dependence between two variables (x and y) \n",
        "## & it depends on the distribution of the data.\n",
        "\n",
        "from numpy.random import randn\n",
        "from numpy.random import seed\n",
        "from scipy.stats import pearsonr\n",
        "\n",
        "# seed random number generator\n",
        "seed(1)\n",
        "\n",
        "# Convert dataframe into series\n",
        "list1 = df['mortality']\n",
        "list2 = df['latitude']\n",
        "  \n",
        "# Apply the pearsonr()\n",
        "corr, _ = pearsonr(list1, list2)\n",
        "print('Pearsons correlation: %.3f' % corr)\n",
        "  \n"
      ],
      "execution_count": null,
      "outputs": [
        {
          "output_type": "stream",
          "text": [
            "Pearsons correlation: 0.985\n"
          ],
          "name": "stdout"
        }
      ]
    },
    {
      "cell_type": "code",
      "metadata": {
        "id": "BrHTniVbTxcD",
        "outputId": "c2e9b7ae-b932-4a55-d738-3164f78f18a5"
      },
      "source": [
        "#7: Create a pairs plot for the data\n",
        "## Pairs plot allow us to see both distribution of single variables and relationships between two variables. \n",
        "## Pairs plot builds on two basic figures, the histogram and the scatter plot.\n",
        "\n",
        "\n",
        "# Create the default pairplot\n",
        "sns.pairplot(df)   ## call the pairplot function and then pass our df to it.\n"
      ],
      "execution_count": null,
      "outputs": [
        {
          "output_type": "execute_result",
          "data": {
            "text/plain": [
              "<seaborn.axisgrid.PairGrid at 0x1c664115070>"
            ]
          },
          "metadata": {
            "tags": []
          },
          "execution_count": 20
        },
        {
          "output_type": "display_data",
          "data": {
            "image/png": "[encoded data removed]",
            "text/plain": [
              "<Figure size 360x360 with 6 Axes>"
            ]
          },
          "metadata": {
            "tags": [],
            "needs_background": "light"
          }
        }
      ]
    },
    {
      "cell_type": "code",
      "metadata": {
        "id": "sYdPpvBWTxcD"
      },
      "source": [
        "#8: Type in this command: from statsmodels.formula.api import ols\n",
        "\n",
        "from statsmodels.formula.api import ols"
      ],
      "execution_count": null,
      "outputs": []
    },
    {
      "cell_type": "code",
      "metadata": {
        "id": "PYK0v996TxcE",
        "outputId": "f7ec994f-b7c4-4b41-ef57-3b93b08a3577"
      },
      "source": [
        "## Regression Plots are used to add a visual guide that helps to emphasize patterns in a dataset during exploratory data analyses.\n",
        "## To obtain quantitative measures related to the fit of regression models, you should use statsmodels.\n",
        "##  regplot() and lmplot() are Seaborn Functions used to visualize a linear relationship as determined through regression\n",
        "## Both functions draw a scatterplot of two variables, x and y, and then fit the regression model y ~ x and \n",
        "## Plot the resulting regression line and a 95% confidence interval for that regression:\n",
        "\n",
        "#09: Create a Seaborn regplot of the regression model and a 95% confidence interval\n",
        "#plot the regression model y ~ x and a 95% confidence interval for that regression\n",
        "\n",
        "\n",
        "sns.regplot(x=\"mortality\", y=\"latitude\", data=df);\n"
      ],
      "execution_count": null,
      "outputs": [
        {
          "output_type": "display_data",
          "data": {
            "image/png": "[encoded data removed]",
            "text/plain": [
              "<Figure size 432x288 with 1 Axes>"
            ]
          },
          "metadata": {
            "tags": [],
            "needs_background": "light"
          }
        }
      ]
    },
    {
      "cell_type": "code",
      "metadata": {
        "id": "eEB-5cMxTxcE",
        "outputId": "218419cc-6bab-469c-e58b-fa1928875f6d"
      },
      "source": [
        "sns.lmplot(x=\"mortality\", y=\"latitude\", data=df);\n"
      ],
      "execution_count": null,
      "outputs": [
        {
          "output_type": "display_data",
          "data": {
            "image/png": "[encoded data removed]",
            "text/plain": [
              "<Figure size 360x360 with 1 Axes>"
            ]
          },
          "metadata": {
            "tags": [],
            "needs_background": "light"
          }
        }
      ]
    },
    {
      "cell_type": "code",
      "metadata": {
        "id": "cIuxONtrTxcF",
        "outputId": "2c35a841-b9ef-404e-efa8-538944dcc1ec"
      },
      "source": [
        "#10: Create the regression model using ols() from the statsmodel package\n",
        "\n",
        "x = df[['mortality']] \n",
        "y = df['latitude']\n",
        "\n",
        "x = sm.add_constant(x) # adding a constant\n",
        "\n",
        "model = sm.OLS(y, x).fit()\n",
        "predictions = model.predict(x) \n",
        "\n",
        "#11: Print the model Summary\n",
        "print_model = model.summary()\n",
        "print(print_model)"
      ],
      "execution_count": null,
      "outputs": [
        {
          "output_type": "stream",
          "text": [
            "                            OLS Regression Results                            \n",
            "==============================================================================\n",
            "Dep. Variable:               latitude   R-squared:                       0.971\n",
            "Model:                            OLS   Adj. R-squared:                  0.969\n",
            "Method:                 Least Squares   F-statistic:                     728.1\n",
            "Date:                Thu, 01 Apr 2021   Prob (F-statistic):           2.36e-18\n",
            "Time:                        11:55:27   Log-Likelihood:                -27.168\n",
            "No. Observations:                  24   AIC:                             58.34\n",
            "Df Residuals:                      22   BIC:                             60.69\n",
            "Df Model:                           1                                         \n",
            "Covariance Type:            nonrobust                                         \n",
            "==============================================================================\n",
            "                 coef    std err          t      P>|t|      [0.025      0.975]\n",
            "------------------------------------------------------------------------------\n",
            "const         -5.6817      1.754     -3.239      0.004      -9.320      -2.043\n",
            "mortality      0.1847      0.007     26.983      0.000       0.170       0.199\n",
            "==============================================================================\n",
            "Omnibus:                        3.731   Durbin-Watson:                   0.172\n",
            "Prob(Omnibus):                  0.155   Jarque-Bera (JB):                3.224\n",
            "Skew:                          -0.853   Prob(JB):                        0.200\n",
            "Kurtosis:                       2.440   Cond. No.                     2.81e+03\n",
            "==============================================================================\n",
            "\n",
            "Notes:\n",
            "[1] Standard Errors assume that the covariance matrix of the errors is correctly specified.\n",
            "[2] The condition number is large, 2.81e+03. This might indicate that there are\n",
            "strong multicollinearity or other numerical problems.\n"
          ],
          "name": "stdout"
        }
      ]
    }
  ]
}