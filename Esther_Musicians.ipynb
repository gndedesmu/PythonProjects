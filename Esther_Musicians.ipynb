{
  "nbformat": 4,
  "nbformat_minor": 0,
  "metadata": {
    "kernelspec": {
      "display_name": "Python 3",
      "language": "python",
      "name": "python3"
    },
    "language_info": {
      "codemirror_mode": {
        "name": "ipython",
        "version": 3
      },
      "file_extension": ".py",
      "mimetype": "text/x-python",
      "name": "python",
      "nbconvert_exporter": "python",
      "pygments_lexer": "ipython3",
      "version": "3.8.3"
    },
    "colab": {
      "name": "Esther_Musicians.ipynb",
      "provenance": [],
      "include_colab_link": true
    }
  },
  "cells": [
    {
      "cell_type": "markdown",
      "metadata": {
        "id": "view-in-github",
        "colab_type": "text"
      },
      "source": [
        "<a href=\"https://colab.research.google.com/github/gndedesmu/PythonProjects/blob/main/Esther_Musicians.ipynb\" target=\"_parent\"><img src=\"https://colab.research.google.com/assets/colab-badge.svg\" alt=\"Open In Colab\"/></a>"
      ]
    },
    {
      "cell_type": "code",
      "metadata": {
        "id": "q0wJmT4N5ku0"
      },
      "source": [
        "import requests\n",
        "import csv\n",
        "from bs4 import BeautifulSoup"
      ],
      "execution_count": 8,
      "outputs": []
    },
    {
      "cell_type": "code",
      "metadata": {
        "id": "MXu6xQI65ku6"
      },
      "source": [
        "page = requests.get('https://web.archive.org/web/20121007172955/http://www.nga.gov/collection/anZ1.htm')\n",
        "\n",
        "soup = BeautifulSoup(page.text, 'html.parser')"
      ],
      "execution_count": 9,
      "outputs": []
    },
    {
      "cell_type": "code",
      "metadata": {
        "id": "3sdhhvWd5ku7"
      },
      "source": [
        "last_links = soup.find(class_='AlphaNav')\n",
        "last_links.decompose()"
      ],
      "execution_count": 10,
      "outputs": []
    },
    {
      "cell_type": "code",
      "metadata": {
        "colab": {
          "base_uri": "https://localhost:8080/"
        },
        "id": "pAEt2AOe5ku8",
        "outputId": "2f7c2847-01b0-4ede-99ef-9282d16ea960"
      },
      "source": [
        "# Create a file to write to, add headers row\n",
        "filer = csv.writer(open('esther_musics_aststs.csv', 'w'))\n",
        "filer.writerow(['Name', 'Link'])\n"
      ],
      "execution_count": 11,
      "outputs": [
        {
          "output_type": "execute_result",
          "data": {
            "text/plain": [
              "11"
            ]
          },
          "metadata": {
            "tags": []
          },
          "execution_count": 11
        }
      ]
    },
    {
      "cell_type": "code",
      "metadata": {
        "id": "xzD03YJD5ku9"
      },
      "source": [
        "artist_name_list = soup.find(class_='BodyText')\n",
        "artist_name_list_items = artist_name_list.find_all('a')\n",
        "#print(artist_name_list_items)"
      ],
      "execution_count": 12,
      "outputs": []
    },
    {
      "cell_type": "code",
      "metadata": {
        "id": "6fjmCuHl5ku9"
      },
      "source": [
        "for artist_name in artist_name_list_items:\n",
        "    esther = artist_name.contents[0]\n",
        "    links = 'https://web.archive.org' + artist_name.get('href')\n",
        "\n",
        "    # Add each artist’s name and associated link to a row\n",
        "    f.writerow([esther, links])\n",
        "    #print(artist_name)\n",
        "    #print(links)"
      ],
      "execution_count": 15,
      "outputs": []
    }
  ]
}